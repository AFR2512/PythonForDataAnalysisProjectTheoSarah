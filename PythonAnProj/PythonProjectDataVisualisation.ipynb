{
 "cells": [
  {
   "cell_type": "code",
   "execution_count": 51,
   "metadata": {},
   "outputs": [],
   "source": [
    "import seaborn as sns\n",
    "import pandas as pd\n",
    "import numpy as np\n",
    "#imports"
   ]
  },
  {
   "cell_type": "code",
   "execution_count": 82,
   "metadata": {},
   "outputs": [
    {
     "data": {
      "text/html": [
       "<div>\n",
       "<style scoped>\n",
       "    .dataframe tbody tr th:only-of-type {\n",
       "        vertical-align: middle;\n",
       "    }\n",
       "\n",
       "    .dataframe tbody tr th {\n",
       "        vertical-align: top;\n",
       "    }\n",
       "\n",
       "    .dataframe thead th {\n",
       "        text-align: right;\n",
       "    }\n",
       "</style>\n",
       "<table border=\"1\" class=\"dataframe\">\n",
       "  <thead>\n",
       "    <tr style=\"text-align: right;\">\n",
       "      <th></th>\n",
       "      <th>height</th>\n",
       "      <th>lenght</th>\n",
       "      <th>area</th>\n",
       "      <th>eccen</th>\n",
       "      <th>p_black</th>\n",
       "      <th>p_and</th>\n",
       "      <th>mean_tr</th>\n",
       "      <th>blackpix</th>\n",
       "      <th>blackand</th>\n",
       "      <th>wb_trans</th>\n",
       "      <th>classe</th>\n",
       "    </tr>\n",
       "  </thead>\n",
       "  <tbody>\n",
       "    <tr>\n",
       "      <td>0</td>\n",
       "      <td>5</td>\n",
       "      <td>7</td>\n",
       "      <td>35</td>\n",
       "      <td>1.400</td>\n",
       "      <td>0.400</td>\n",
       "      <td>0.657</td>\n",
       "      <td>2.33</td>\n",
       "      <td>14</td>\n",
       "      <td>23</td>\n",
       "      <td>6</td>\n",
       "      <td>1</td>\n",
       "    </tr>\n",
       "    <tr>\n",
       "      <td>1</td>\n",
       "      <td>6</td>\n",
       "      <td>7</td>\n",
       "      <td>42</td>\n",
       "      <td>1.167</td>\n",
       "      <td>0.429</td>\n",
       "      <td>0.881</td>\n",
       "      <td>3.60</td>\n",
       "      <td>18</td>\n",
       "      <td>37</td>\n",
       "      <td>5</td>\n",
       "      <td>1</td>\n",
       "    </tr>\n",
       "    <tr>\n",
       "      <td>2</td>\n",
       "      <td>6</td>\n",
       "      <td>18</td>\n",
       "      <td>108</td>\n",
       "      <td>3.000</td>\n",
       "      <td>0.287</td>\n",
       "      <td>0.741</td>\n",
       "      <td>4.43</td>\n",
       "      <td>31</td>\n",
       "      <td>80</td>\n",
       "      <td>7</td>\n",
       "      <td>1</td>\n",
       "    </tr>\n",
       "    <tr>\n",
       "      <td>3</td>\n",
       "      <td>5</td>\n",
       "      <td>7</td>\n",
       "      <td>35</td>\n",
       "      <td>1.400</td>\n",
       "      <td>0.371</td>\n",
       "      <td>0.743</td>\n",
       "      <td>4.33</td>\n",
       "      <td>13</td>\n",
       "      <td>26</td>\n",
       "      <td>3</td>\n",
       "      <td>1</td>\n",
       "    </tr>\n",
       "    <tr>\n",
       "      <td>4</td>\n",
       "      <td>6</td>\n",
       "      <td>3</td>\n",
       "      <td>18</td>\n",
       "      <td>0.500</td>\n",
       "      <td>0.500</td>\n",
       "      <td>0.944</td>\n",
       "      <td>2.25</td>\n",
       "      <td>9</td>\n",
       "      <td>17</td>\n",
       "      <td>4</td>\n",
       "      <td>1</td>\n",
       "    </tr>\n",
       "    <tr>\n",
       "      <td>...</td>\n",
       "      <td>...</td>\n",
       "      <td>...</td>\n",
       "      <td>...</td>\n",
       "      <td>...</td>\n",
       "      <td>...</td>\n",
       "      <td>...</td>\n",
       "      <td>...</td>\n",
       "      <td>...</td>\n",
       "      <td>...</td>\n",
       "      <td>...</td>\n",
       "      <td>...</td>\n",
       "    </tr>\n",
       "    <tr>\n",
       "      <td>5468</td>\n",
       "      <td>4</td>\n",
       "      <td>524</td>\n",
       "      <td>2096</td>\n",
       "      <td>131.000</td>\n",
       "      <td>0.542</td>\n",
       "      <td>0.603</td>\n",
       "      <td>40.57</td>\n",
       "      <td>136</td>\n",
       "      <td>264</td>\n",
       "      <td>28</td>\n",
       "      <td>2</td>\n",
       "    </tr>\n",
       "    <tr>\n",
       "      <td>5469</td>\n",
       "      <td>7</td>\n",
       "      <td>4</td>\n",
       "      <td>28</td>\n",
       "      <td>0.571</td>\n",
       "      <td>0.714</td>\n",
       "      <td>0.929</td>\n",
       "      <td>10.00</td>\n",
       "      <td>20</td>\n",
       "      <td>26</td>\n",
       "      <td>2</td>\n",
       "      <td>1</td>\n",
       "    </tr>\n",
       "    <tr>\n",
       "      <td>5470</td>\n",
       "      <td>6</td>\n",
       "      <td>95</td>\n",
       "      <td>570</td>\n",
       "      <td>15.833</td>\n",
       "      <td>0.300</td>\n",
       "      <td>0.911</td>\n",
       "      <td>1.64</td>\n",
       "      <td>171</td>\n",
       "      <td>519</td>\n",
       "      <td>104</td>\n",
       "      <td>1</td>\n",
       "    </tr>\n",
       "    <tr>\n",
       "      <td>5471</td>\n",
       "      <td>7</td>\n",
       "      <td>41</td>\n",
       "      <td>287</td>\n",
       "      <td>5.857</td>\n",
       "      <td>0.213</td>\n",
       "      <td>0.801</td>\n",
       "      <td>1.36</td>\n",
       "      <td>61</td>\n",
       "      <td>230</td>\n",
       "      <td>45</td>\n",
       "      <td>1</td>\n",
       "    </tr>\n",
       "    <tr>\n",
       "      <td>5472</td>\n",
       "      <td>8</td>\n",
       "      <td>1</td>\n",
       "      <td>8</td>\n",
       "      <td>0.125</td>\n",
       "      <td>1.000</td>\n",
       "      <td>1.000</td>\n",
       "      <td>8.00</td>\n",
       "      <td>8</td>\n",
       "      <td>8</td>\n",
       "      <td>1</td>\n",
       "      <td>4</td>\n",
       "    </tr>\n",
       "  </tbody>\n",
       "</table>\n",
       "<p>5473 rows × 11 columns</p>\n",
       "</div>"
      ],
      "text/plain": [
       "      height  lenght  area    eccen  p_black  p_and  mean_tr  blackpix  \\\n",
       "0          5       7    35    1.400    0.400  0.657     2.33        14   \n",
       "1          6       7    42    1.167    0.429  0.881     3.60        18   \n",
       "2          6      18   108    3.000    0.287  0.741     4.43        31   \n",
       "3          5       7    35    1.400    0.371  0.743     4.33        13   \n",
       "4          6       3    18    0.500    0.500  0.944     2.25         9   \n",
       "...      ...     ...   ...      ...      ...    ...      ...       ...   \n",
       "5468       4     524  2096  131.000    0.542  0.603    40.57       136   \n",
       "5469       7       4    28    0.571    0.714  0.929    10.00        20   \n",
       "5470       6      95   570   15.833    0.300  0.911     1.64       171   \n",
       "5471       7      41   287    5.857    0.213  0.801     1.36        61   \n",
       "5472       8       1     8    0.125    1.000  1.000     8.00         8   \n",
       "\n",
       "      blackand  wb_trans  classe  \n",
       "0           23         6       1  \n",
       "1           37         5       1  \n",
       "2           80         7       1  \n",
       "3           26         3       1  \n",
       "4           17         4       1  \n",
       "...        ...       ...     ...  \n",
       "5468       264        28       2  \n",
       "5469        26         2       1  \n",
       "5470       519       104       1  \n",
       "5471       230        45       1  \n",
       "5472         8         1       4  \n",
       "\n",
       "[5473 rows x 11 columns]"
      ]
     },
     "execution_count": 82,
     "metadata": {},
     "output_type": "execute_result"
    }
   ],
   "source": [
    "names = [\"height\",\"lenght\",\"area\",\"eccen\",\"p_black\",\"p_and\",\"mean_tr\",\"blackpix\",\"blackand\",\"wb_trans\",\"classe\"]\n",
    "data = \"page-blocks.data\"\n",
    "df = pd.read_fwf(data, names = names)\n",
    "df\n",
    "#1=text 2=Horizontal line 3=Picture 4=Vertical line 5=Graphic"
   ]
  },
  {
   "cell_type": "code",
   "execution_count": 113,
   "metadata": {},
   "outputs": [
    {
     "name": "stdout",
     "output_type": "stream",
     "text": [
      "Il y a 4913 Textes, 329 blocs horizontaux, 28 images, 88 blocs verticaux, 115 graphiques\n"
     ]
    }
   ],
   "source": [
    "#catégories de blocs\n",
    "text = df[df.classe == 1]\n",
    "hor = df[df.classe == 2]\n",
    "pic = df[df.classe == 3]\n",
    "ver = df[df.classe == 4]\n",
    "graph = df[df.classe == 5]\n",
    "print(\"Il y a {ntext} Textes, {nhor} blocs horizontaux, {npic} images, {nver} blocs verticaux, {ngraph} graphiques\".format(ntext=len(text),nhor = len(hor),npic = len(pic),nver = len(ver),ngraph = len(graph)))\n"
   ]
  },
  {
   "cell_type": "code",
   "execution_count": 103,
   "metadata": {},
   "outputs": [
    {
     "data": {
      "text/html": [
       "<div>\n",
       "<style scoped>\n",
       "    .dataframe tbody tr th:only-of-type {\n",
       "        vertical-align: middle;\n",
       "    }\n",
       "\n",
       "    .dataframe tbody tr th {\n",
       "        vertical-align: top;\n",
       "    }\n",
       "\n",
       "    .dataframe thead th {\n",
       "        text-align: right;\n",
       "    }\n",
       "</style>\n",
       "<table border=\"1\" class=\"dataframe\">\n",
       "  <thead>\n",
       "    <tr style=\"text-align: right;\">\n",
       "      <th></th>\n",
       "      <th>height</th>\n",
       "      <th>lenght</th>\n",
       "      <th>area</th>\n",
       "      <th>eccen</th>\n",
       "      <th>p_black</th>\n",
       "      <th>p_and</th>\n",
       "      <th>mean_tr</th>\n",
       "      <th>blackpix</th>\n",
       "      <th>blackand</th>\n",
       "      <th>wb_trans</th>\n",
       "      <th>classe</th>\n",
       "      <th>Catégorie_bloc</th>\n",
       "    </tr>\n",
       "  </thead>\n",
       "  <tbody>\n",
       "    <tr>\n",
       "      <td>0</td>\n",
       "      <td>5</td>\n",
       "      <td>7</td>\n",
       "      <td>35</td>\n",
       "      <td>1.400</td>\n",
       "      <td>0.400</td>\n",
       "      <td>0.657</td>\n",
       "      <td>2.33</td>\n",
       "      <td>14</td>\n",
       "      <td>23</td>\n",
       "      <td>6</td>\n",
       "      <td>1</td>\n",
       "      <td>Text</td>\n",
       "    </tr>\n",
       "    <tr>\n",
       "      <td>1</td>\n",
       "      <td>6</td>\n",
       "      <td>7</td>\n",
       "      <td>42</td>\n",
       "      <td>1.167</td>\n",
       "      <td>0.429</td>\n",
       "      <td>0.881</td>\n",
       "      <td>3.60</td>\n",
       "      <td>18</td>\n",
       "      <td>37</td>\n",
       "      <td>5</td>\n",
       "      <td>1</td>\n",
       "      <td>Text</td>\n",
       "    </tr>\n",
       "    <tr>\n",
       "      <td>2</td>\n",
       "      <td>6</td>\n",
       "      <td>18</td>\n",
       "      <td>108</td>\n",
       "      <td>3.000</td>\n",
       "      <td>0.287</td>\n",
       "      <td>0.741</td>\n",
       "      <td>4.43</td>\n",
       "      <td>31</td>\n",
       "      <td>80</td>\n",
       "      <td>7</td>\n",
       "      <td>1</td>\n",
       "      <td>Text</td>\n",
       "    </tr>\n",
       "    <tr>\n",
       "      <td>3</td>\n",
       "      <td>5</td>\n",
       "      <td>7</td>\n",
       "      <td>35</td>\n",
       "      <td>1.400</td>\n",
       "      <td>0.371</td>\n",
       "      <td>0.743</td>\n",
       "      <td>4.33</td>\n",
       "      <td>13</td>\n",
       "      <td>26</td>\n",
       "      <td>3</td>\n",
       "      <td>1</td>\n",
       "      <td>Text</td>\n",
       "    </tr>\n",
       "    <tr>\n",
       "      <td>4</td>\n",
       "      <td>6</td>\n",
       "      <td>3</td>\n",
       "      <td>18</td>\n",
       "      <td>0.500</td>\n",
       "      <td>0.500</td>\n",
       "      <td>0.944</td>\n",
       "      <td>2.25</td>\n",
       "      <td>9</td>\n",
       "      <td>17</td>\n",
       "      <td>4</td>\n",
       "      <td>1</td>\n",
       "      <td>Text</td>\n",
       "    </tr>\n",
       "    <tr>\n",
       "      <td>...</td>\n",
       "      <td>...</td>\n",
       "      <td>...</td>\n",
       "      <td>...</td>\n",
       "      <td>...</td>\n",
       "      <td>...</td>\n",
       "      <td>...</td>\n",
       "      <td>...</td>\n",
       "      <td>...</td>\n",
       "      <td>...</td>\n",
       "      <td>...</td>\n",
       "      <td>...</td>\n",
       "      <td>...</td>\n",
       "    </tr>\n",
       "    <tr>\n",
       "      <td>5468</td>\n",
       "      <td>4</td>\n",
       "      <td>524</td>\n",
       "      <td>2096</td>\n",
       "      <td>131.000</td>\n",
       "      <td>0.542</td>\n",
       "      <td>0.603</td>\n",
       "      <td>40.57</td>\n",
       "      <td>136</td>\n",
       "      <td>264</td>\n",
       "      <td>28</td>\n",
       "      <td>2</td>\n",
       "      <td>Horizontal_Line</td>\n",
       "    </tr>\n",
       "    <tr>\n",
       "      <td>5469</td>\n",
       "      <td>7</td>\n",
       "      <td>4</td>\n",
       "      <td>28</td>\n",
       "      <td>0.571</td>\n",
       "      <td>0.714</td>\n",
       "      <td>0.929</td>\n",
       "      <td>10.00</td>\n",
       "      <td>20</td>\n",
       "      <td>26</td>\n",
       "      <td>2</td>\n",
       "      <td>1</td>\n",
       "      <td>Text</td>\n",
       "    </tr>\n",
       "    <tr>\n",
       "      <td>5470</td>\n",
       "      <td>6</td>\n",
       "      <td>95</td>\n",
       "      <td>570</td>\n",
       "      <td>15.833</td>\n",
       "      <td>0.300</td>\n",
       "      <td>0.911</td>\n",
       "      <td>1.64</td>\n",
       "      <td>171</td>\n",
       "      <td>519</td>\n",
       "      <td>104</td>\n",
       "      <td>1</td>\n",
       "      <td>Text</td>\n",
       "    </tr>\n",
       "    <tr>\n",
       "      <td>5471</td>\n",
       "      <td>7</td>\n",
       "      <td>41</td>\n",
       "      <td>287</td>\n",
       "      <td>5.857</td>\n",
       "      <td>0.213</td>\n",
       "      <td>0.801</td>\n",
       "      <td>1.36</td>\n",
       "      <td>61</td>\n",
       "      <td>230</td>\n",
       "      <td>45</td>\n",
       "      <td>1</td>\n",
       "      <td>Text</td>\n",
       "    </tr>\n",
       "    <tr>\n",
       "      <td>5472</td>\n",
       "      <td>8</td>\n",
       "      <td>1</td>\n",
       "      <td>8</td>\n",
       "      <td>0.125</td>\n",
       "      <td>1.000</td>\n",
       "      <td>1.000</td>\n",
       "      <td>8.00</td>\n",
       "      <td>8</td>\n",
       "      <td>8</td>\n",
       "      <td>1</td>\n",
       "      <td>4</td>\n",
       "      <td>Vertical_Line</td>\n",
       "    </tr>\n",
       "  </tbody>\n",
       "</table>\n",
       "<p>5473 rows × 12 columns</p>\n",
       "</div>"
      ],
      "text/plain": [
       "      height  lenght  area    eccen  p_black  p_and  mean_tr  blackpix  \\\n",
       "0          5       7    35    1.400    0.400  0.657     2.33        14   \n",
       "1          6       7    42    1.167    0.429  0.881     3.60        18   \n",
       "2          6      18   108    3.000    0.287  0.741     4.43        31   \n",
       "3          5       7    35    1.400    0.371  0.743     4.33        13   \n",
       "4          6       3    18    0.500    0.500  0.944     2.25         9   \n",
       "...      ...     ...   ...      ...      ...    ...      ...       ...   \n",
       "5468       4     524  2096  131.000    0.542  0.603    40.57       136   \n",
       "5469       7       4    28    0.571    0.714  0.929    10.00        20   \n",
       "5470       6      95   570   15.833    0.300  0.911     1.64       171   \n",
       "5471       7      41   287    5.857    0.213  0.801     1.36        61   \n",
       "5472       8       1     8    0.125    1.000  1.000     8.00         8   \n",
       "\n",
       "      blackand  wb_trans  classe   Catégorie_bloc  \n",
       "0           23         6       1             Text  \n",
       "1           37         5       1             Text  \n",
       "2           80         7       1             Text  \n",
       "3           26         3       1             Text  \n",
       "4           17         4       1             Text  \n",
       "...        ...       ...     ...              ...  \n",
       "5468       264        28       2  Horizontal_Line  \n",
       "5469        26         2       1             Text  \n",
       "5470       519       104       1             Text  \n",
       "5471       230        45       1             Text  \n",
       "5472         8         1       4    Vertical_Line  \n",
       "\n",
       "[5473 rows x 12 columns]"
      ]
     },
     "execution_count": 103,
     "metadata": {},
     "output_type": "execute_result"
    }
   ],
   "source": [
    "# Ajout d'une colonne, on rajoute ici les catégories de blocs\n",
    "values = []\n",
    "for x in df.classe:\n",
    "    if x == 1:\n",
    "        values.append(\"Text\")\n",
    "    elif x == 2:\n",
    "        values.append(\"Horizontal_Line\")\n",
    "    elif x == 3:\n",
    "        values.append(\"Picture\")\n",
    "    elif x == 4:\n",
    "        values.append(\"Vertical_Line\")\n",
    "    elif x == 5:\n",
    "        values.append(\"Graphic\")\n",
    "df[\"Catégorie_bloc\"] = values\n",
    "df\n"
   ]
  },
  {
   "cell_type": "code",
   "execution_count": 104,
   "metadata": {},
   "outputs": [
    {
     "data": {
      "text/plain": [
       "(5473, 12)"
      ]
     },
     "execution_count": 104,
     "metadata": {},
     "output_type": "execute_result"
    }
   ],
   "source": [
    "df.shape"
   ]
  },
  {
   "cell_type": "code",
   "execution_count": 86,
   "metadata": {},
   "outputs": [
    {
     "data": {
      "text/plain": [
       "height  lenght\n",
       "0       49        1\n",
       "1       7         5\n",
       "        8         6\n",
       "        9         5\n",
       "        10        6\n",
       "                 ..\n",
       "93      104       1\n",
       "94      2         1\n",
       "95      93        1\n",
       "97      198       1\n",
       "98      3         1\n",
       "Name: classe, Length: 2011, dtype: int64"
      ]
     },
     "execution_count": 86,
     "metadata": {},
     "output_type": "execute_result"
    }
   ],
   "source": [
    "df.groupby([\"height\", \"lenght\"])[\"classe\"].count()"
   ]
  },
  {
   "cell_type": "code",
   "execution_count": 118,
   "metadata": {},
   "outputs": [
    {
     "data": {
      "text/html": [
       "<div>\n",
       "<style scoped>\n",
       "    .dataframe tbody tr th:only-of-type {\n",
       "        vertical-align: middle;\n",
       "    }\n",
       "\n",
       "    .dataframe tbody tr th {\n",
       "        vertical-align: top;\n",
       "    }\n",
       "\n",
       "    .dataframe thead th {\n",
       "        text-align: right;\n",
       "    }\n",
       "</style>\n",
       "<table border=\"1\" class=\"dataframe\">\n",
       "  <thead>\n",
       "    <tr style=\"text-align: right;\">\n",
       "      <th></th>\n",
       "      <th>height</th>\n",
       "      <th>lenght</th>\n",
       "      <th>area</th>\n",
       "      <th>eccen</th>\n",
       "      <th>p_black</th>\n",
       "      <th>p_and</th>\n",
       "      <th>mean_tr</th>\n",
       "      <th>blackpix</th>\n",
       "      <th>blackand</th>\n",
       "      <th>wb_trans</th>\n",
       "      <th>classe</th>\n",
       "      <th>Catégorie_bloc</th>\n",
       "    </tr>\n",
       "  </thead>\n",
       "  <tbody>\n",
       "    <tr>\n",
       "      <td>25</td>\n",
       "      <td>13</td>\n",
       "      <td>25</td>\n",
       "      <td>325</td>\n",
       "      <td>1.923</td>\n",
       "      <td>0.234</td>\n",
       "      <td>0.286</td>\n",
       "      <td>10.86</td>\n",
       "      <td>76</td>\n",
       "      <td>93</td>\n",
       "      <td>7</td>\n",
       "      <td>1</td>\n",
       "      <td>Text</td>\n",
       "    </tr>\n",
       "    <tr>\n",
       "      <td>26</td>\n",
       "      <td>13</td>\n",
       "      <td>25</td>\n",
       "      <td>325</td>\n",
       "      <td>1.923</td>\n",
       "      <td>0.351</td>\n",
       "      <td>0.680</td>\n",
       "      <td>6.00</td>\n",
       "      <td>114</td>\n",
       "      <td>221</td>\n",
       "      <td>19</td>\n",
       "      <td>1</td>\n",
       "      <td>Text</td>\n",
       "    </tr>\n",
       "    <tr>\n",
       "      <td>27</td>\n",
       "      <td>7</td>\n",
       "      <td>16</td>\n",
       "      <td>112</td>\n",
       "      <td>2.286</td>\n",
       "      <td>0.321</td>\n",
       "      <td>0.643</td>\n",
       "      <td>2.57</td>\n",
       "      <td>36</td>\n",
       "      <td>72</td>\n",
       "      <td>14</td>\n",
       "      <td>1</td>\n",
       "      <td>Text</td>\n",
       "    </tr>\n",
       "    <tr>\n",
       "      <td>28</td>\n",
       "      <td>7</td>\n",
       "      <td>103</td>\n",
       "      <td>721</td>\n",
       "      <td>14.714</td>\n",
       "      <td>0.295</td>\n",
       "      <td>0.691</td>\n",
       "      <td>1.76</td>\n",
       "      <td>213</td>\n",
       "      <td>498</td>\n",
       "      <td>121</td>\n",
       "      <td>1</td>\n",
       "      <td>Text</td>\n",
       "    </tr>\n",
       "    <tr>\n",
       "      <td>29</td>\n",
       "      <td>11</td>\n",
       "      <td>9</td>\n",
       "      <td>99</td>\n",
       "      <td>0.818</td>\n",
       "      <td>0.343</td>\n",
       "      <td>0.626</td>\n",
       "      <td>3.40</td>\n",
       "      <td>34</td>\n",
       "      <td>62</td>\n",
       "      <td>10</td>\n",
       "      <td>1</td>\n",
       "      <td>Text</td>\n",
       "    </tr>\n",
       "  </tbody>\n",
       "</table>\n",
       "</div>"
      ],
      "text/plain": [
       "    height  lenght  area   eccen  p_black  p_and  mean_tr  blackpix  blackand  \\\n",
       "25      13      25   325   1.923    0.234  0.286    10.86        76        93   \n",
       "26      13      25   325   1.923    0.351  0.680     6.00       114       221   \n",
       "27       7      16   112   2.286    0.321  0.643     2.57        36        72   \n",
       "28       7     103   721  14.714    0.295  0.691     1.76       213       498   \n",
       "29      11       9    99   0.818    0.343  0.626     3.40        34        62   \n",
       "\n",
       "    wb_trans  classe Catégorie_bloc  \n",
       "25         7       1           Text  \n",
       "26        19       1           Text  \n",
       "27        14       1           Text  \n",
       "28       121       1           Text  \n",
       "29        10       1           Text  "
      ]
     },
     "execution_count": 118,
     "metadata": {},
     "output_type": "execute_result"
    }
   ],
   "source": [
    "filtre = df.height >= 7\n",
    "df[filtre].head()"
   ]
  },
  {
   "cell_type": "code",
   "execution_count": 119,
   "metadata": {},
   "outputs": [
    {
     "data": {
      "text/html": [
       "<div>\n",
       "<style scoped>\n",
       "    .dataframe tbody tr th:only-of-type {\n",
       "        vertical-align: middle;\n",
       "    }\n",
       "\n",
       "    .dataframe tbody tr th {\n",
       "        vertical-align: top;\n",
       "    }\n",
       "\n",
       "    .dataframe thead th {\n",
       "        text-align: right;\n",
       "    }\n",
       "</style>\n",
       "<table border=\"1\" class=\"dataframe\">\n",
       "  <thead>\n",
       "    <tr style=\"text-align: right;\">\n",
       "      <th></th>\n",
       "      <th>height</th>\n",
       "      <th>lenght</th>\n",
       "      <th>area</th>\n",
       "      <th>eccen</th>\n",
       "      <th>p_black</th>\n",
       "      <th>p_and</th>\n",
       "      <th>mean_tr</th>\n",
       "      <th>blackpix</th>\n",
       "      <th>blackand</th>\n",
       "      <th>wb_trans</th>\n",
       "      <th>classe</th>\n",
       "      <th>Catégorie_bloc</th>\n",
       "    </tr>\n",
       "  </thead>\n",
       "  <tbody>\n",
       "    <tr>\n",
       "      <td>0</td>\n",
       "      <td>5</td>\n",
       "      <td>7</td>\n",
       "      <td>35</td>\n",
       "      <td>1.400</td>\n",
       "      <td>0.400</td>\n",
       "      <td>0.657</td>\n",
       "      <td>2.33</td>\n",
       "      <td>14</td>\n",
       "      <td>23</td>\n",
       "      <td>6</td>\n",
       "      <td>1</td>\n",
       "      <td>Text</td>\n",
       "    </tr>\n",
       "    <tr>\n",
       "      <td>1</td>\n",
       "      <td>6</td>\n",
       "      <td>7</td>\n",
       "      <td>42</td>\n",
       "      <td>1.167</td>\n",
       "      <td>0.429</td>\n",
       "      <td>0.881</td>\n",
       "      <td>3.60</td>\n",
       "      <td>18</td>\n",
       "      <td>37</td>\n",
       "      <td>5</td>\n",
       "      <td>1</td>\n",
       "      <td>Text</td>\n",
       "    </tr>\n",
       "    <tr>\n",
       "      <td>2</td>\n",
       "      <td>6</td>\n",
       "      <td>18</td>\n",
       "      <td>108</td>\n",
       "      <td>3.000</td>\n",
       "      <td>0.287</td>\n",
       "      <td>0.741</td>\n",
       "      <td>4.43</td>\n",
       "      <td>31</td>\n",
       "      <td>80</td>\n",
       "      <td>7</td>\n",
       "      <td>1</td>\n",
       "      <td>Text</td>\n",
       "    </tr>\n",
       "    <tr>\n",
       "      <td>3</td>\n",
       "      <td>5</td>\n",
       "      <td>7</td>\n",
       "      <td>35</td>\n",
       "      <td>1.400</td>\n",
       "      <td>0.371</td>\n",
       "      <td>0.743</td>\n",
       "      <td>4.33</td>\n",
       "      <td>13</td>\n",
       "      <td>26</td>\n",
       "      <td>3</td>\n",
       "      <td>1</td>\n",
       "      <td>Text</td>\n",
       "    </tr>\n",
       "    <tr>\n",
       "      <td>4</td>\n",
       "      <td>6</td>\n",
       "      <td>3</td>\n",
       "      <td>18</td>\n",
       "      <td>0.500</td>\n",
       "      <td>0.500</td>\n",
       "      <td>0.944</td>\n",
       "      <td>2.25</td>\n",
       "      <td>9</td>\n",
       "      <td>17</td>\n",
       "      <td>4</td>\n",
       "      <td>1</td>\n",
       "      <td>Text</td>\n",
       "    </tr>\n",
       "  </tbody>\n",
       "</table>\n",
       "</div>"
      ],
      "text/plain": [
       "   height  lenght  area  eccen  p_black  p_and  mean_tr  blackpix  blackand  \\\n",
       "0       5       7    35  1.400    0.400  0.657     2.33        14        23   \n",
       "1       6       7    42  1.167    0.429  0.881     3.60        18        37   \n",
       "2       6      18   108  3.000    0.287  0.741     4.43        31        80   \n",
       "3       5       7    35  1.400    0.371  0.743     4.33        13        26   \n",
       "4       6       3    18  0.500    0.500  0.944     2.25         9        17   \n",
       "\n",
       "   wb_trans  classe Catégorie_bloc  \n",
       "0         6       1           Text  \n",
       "1         5       1           Text  \n",
       "2         7       1           Text  \n",
       "3         3       1           Text  \n",
       "4         4       1           Text  "
      ]
     },
     "execution_count": 119,
     "metadata": {},
     "output_type": "execute_result"
    }
   ],
   "source": [
    "filtre = df.wb_trans!=1\n",
    "df[filtre].head()"
   ]
  },
  {
   "cell_type": "code",
   "execution_count": 107,
   "metadata": {},
   "outputs": [
    {
     "data": {
      "text/plain": [
       "Catégorie_bloc\n",
       "Graphic             89.965217\n",
       "Horizontal_Line    141.875380\n",
       "Picture            153.071429\n",
       "Text                87.255038\n",
       "Vertical_Line        2.431818\n",
       "Name: lenght, dtype: float64"
      ]
     },
     "execution_count": 107,
     "metadata": {},
     "output_type": "execute_result"
    }
   ],
   "source": [
    "#moyenne des longueurs par classe\n",
    "df.groupby([\"Catégorie_bloc\"])[\"lenght\"].mean()"
   ]
  },
  {
   "cell_type": "code",
   "execution_count": 108,
   "metadata": {},
   "outputs": [
    {
     "data": {
      "text/plain": [
       "Catégorie_bloc\n",
       "Graphic            28.008696\n",
       "Horizontal_Line     2.544073\n",
       "Picture            57.678571\n",
       "Text                9.132302\n",
       "Vertical_Line      23.636364\n",
       "Name: height, dtype: float64"
      ]
     },
     "execution_count": 108,
     "metadata": {},
     "output_type": "execute_result"
    }
   ],
   "source": [
    "#moyenne des hauteurs par classe\n",
    "df.groupby([\"Catégorie_bloc\"])[\"height\"].mean()"
   ]
  },
  {
   "cell_type": "code",
   "execution_count": 116,
   "metadata": {},
   "outputs": [
    {
     "data": {
      "text/plain": [
       "Catégorie_bloc\n",
       "Graphic            2035.521739\n",
       "Horizontal_Line     478.908815\n",
       "Picture            3948.035714\n",
       "Text                906.524730\n",
       "Vertical_Line       260.534091\n",
       "Name: area, dtype: float64"
      ]
     },
     "execution_count": 116,
     "metadata": {},
     "output_type": "execute_result"
    }
   ],
   "source": [
    "#moyenne des aires par classe\n",
    "df.groupby([\"Catégorie_bloc\"])[\"area\"].mean()"
   ]
  },
  {
   "cell_type": "code",
   "execution_count": 168,
   "metadata": {},
   "outputs": [
    {
     "data": {
      "text/plain": [
       "<matplotlib.axes._subplots.AxesSubplot at 0x289493bd808>"
      ]
     },
     "execution_count": 168,
     "metadata": {},
     "output_type": "execute_result"
    },
    {
     "data": {
      "image/png": "[encoded data removed]",
      "text/plain": [
       "<Figure size 432x288 with 1 Axes>"
      ]
     },
     "metadata": {
      "needs_background": "light"
     },
     "output_type": "display_data"
    }
   ],
   "source": [
    "df.classe.plot.hist()\n",
    "#il y a beaucoup de 1 (textes) par rapport au autres types"
   ]
  },
  {
   "cell_type": "code",
   "execution_count": 39,
   "metadata": {},
   "outputs": [
    {
     "data": {
      "text/plain": [
       "<matplotlib.axes._subplots.AxesSubplot at 0x28945b8cbc8>"
      ]
     },
     "execution_count": 39,
     "metadata": {},
     "output_type": "execute_result"
    },
    {
     "data": {
      "image/png": "[encoded data removed]",
      "text/plain": [
       "<Figure size 432x288 with 1 Axes>"
      ]
     },
     "metadata": {
      "needs_background": "light"
     },
     "output_type": "display_data"
    }
   ],
   "source": [
    "df.lenght.plot.hist()"
   ]
  },
  {
   "cell_type": "code",
   "execution_count": 128,
   "metadata": {},
   "outputs": [
    {
     "data": {
      "text/html": [
       "<div>\n",
       "<style scoped>\n",
       "    .dataframe tbody tr th:only-of-type {\n",
       "        vertical-align: middle;\n",
       "    }\n",
       "\n",
       "    .dataframe tbody tr th {\n",
       "        vertical-align: top;\n",
       "    }\n",
       "\n",
       "    .dataframe thead tr th {\n",
       "        text-align: left;\n",
       "    }\n",
       "\n",
       "    .dataframe thead tr:last-of-type th {\n",
       "        text-align: right;\n",
       "    }\n",
       "</style>\n",
       "<table border=\"1\" class=\"dataframe\">\n",
       "  <thead>\n",
       "    <tr>\n",
       "      <th></th>\n",
       "      <th colspan=\"3\" halign=\"left\">mean</th>\n",
       "      <th colspan=\"3\" halign=\"left\">std</th>\n",
       "    </tr>\n",
       "    <tr>\n",
       "      <th></th>\n",
       "      <th>area</th>\n",
       "      <th>height</th>\n",
       "      <th>lenght</th>\n",
       "      <th>area</th>\n",
       "      <th>height</th>\n",
       "      <th>lenght</th>\n",
       "    </tr>\n",
       "    <tr>\n",
       "      <th>Catégorie_bloc</th>\n",
       "      <th></th>\n",
       "      <th></th>\n",
       "      <th></th>\n",
       "      <th></th>\n",
       "      <th></th>\n",
       "      <th></th>\n",
       "    </tr>\n",
       "  </thead>\n",
       "  <tbody>\n",
       "    <tr>\n",
       "      <td>Graphic</td>\n",
       "      <td>2035.521739</td>\n",
       "      <td>28.008696</td>\n",
       "      <td>89.965217</td>\n",
       "      <td>2572.789725</td>\n",
       "      <td>24.617244</td>\n",
       "      <td>128.954155</td>\n",
       "    </tr>\n",
       "    <tr>\n",
       "      <td>Horizontal_Line</td>\n",
       "      <td>478.908815</td>\n",
       "      <td>2.544073</td>\n",
       "      <td>141.875380</td>\n",
       "      <td>1185.211334</td>\n",
       "      <td>4.182429</td>\n",
       "      <td>172.613924</td>\n",
       "    </tr>\n",
       "    <tr>\n",
       "      <td>Picture</td>\n",
       "      <td>3948.035714</td>\n",
       "      <td>57.678571</td>\n",
       "      <td>153.071429</td>\n",
       "      <td>2712.209015</td>\n",
       "      <td>24.023220</td>\n",
       "      <td>155.615368</td>\n",
       "    </tr>\n",
       "    <tr>\n",
       "      <td>Text</td>\n",
       "      <td>906.524730</td>\n",
       "      <td>9.132302</td>\n",
       "      <td>87.255038</td>\n",
       "      <td>1365.080403</td>\n",
       "      <td>4.913088</td>\n",
       "      <td>108.650237</td>\n",
       "    </tr>\n",
       "    <tr>\n",
       "      <td>Vertical_Line</td>\n",
       "      <td>260.534091</td>\n",
       "      <td>23.636364</td>\n",
       "      <td>2.431818</td>\n",
       "      <td>1263.156455</td>\n",
       "      <td>22.731406</td>\n",
       "      <td>4.610820</td>\n",
       "    </tr>\n",
       "  </tbody>\n",
       "</table>\n",
       "</div>"
      ],
      "text/plain": [
       "                        mean                                 std             \\\n",
       "                        area     height      lenght         area     height   \n",
       "Catégorie_bloc                                                                \n",
       "Graphic          2035.521739  28.008696   89.965217  2572.789725  24.617244   \n",
       "Horizontal_Line   478.908815   2.544073  141.875380  1185.211334   4.182429   \n",
       "Picture          3948.035714  57.678571  153.071429  2712.209015  24.023220   \n",
       "Text              906.524730   9.132302   87.255038  1365.080403   4.913088   \n",
       "Vertical_Line     260.534091  23.636364    2.431818  1263.156455  22.731406   \n",
       "\n",
       "                             \n",
       "                     lenght  \n",
       "Catégorie_bloc               \n",
       "Graphic          128.954155  \n",
       "Horizontal_Line  172.613924  \n",
       "Picture          155.615368  \n",
       "Text             108.650237  \n",
       "Vertical_Line      4.610820  "
      ]
     },
     "execution_count": 128,
     "metadata": {},
     "output_type": "execute_result"
    }
   ],
   "source": [
    "#On affiche les moyennes et ecarts des hauteurs, largeurs et aires pour chaque catégorie de blocs\n",
    "tab = df.pivot_table(df[[\"height\",\"lenght\",\"area\"]],\n",
    "                             index=[\"Catégorie_bloc\"],                           \n",
    "                           aggfunc=[np.mean, np.std])\n",
    "tab"
   ]
  },
  {
   "cell_type": "code",
   "execution_count": 129,
   "metadata": {},
   "outputs": [
    {
     "data": {
      "text/html": [
       "<div>\n",
       "<style scoped>\n",
       "    .dataframe tbody tr th:only-of-type {\n",
       "        vertical-align: middle;\n",
       "    }\n",
       "\n",
       "    .dataframe tbody tr th {\n",
       "        vertical-align: top;\n",
       "    }\n",
       "\n",
       "    .dataframe thead tr th {\n",
       "        text-align: left;\n",
       "    }\n",
       "\n",
       "    .dataframe thead tr:last-of-type th {\n",
       "        text-align: right;\n",
       "    }\n",
       "</style>\n",
       "<table border=\"1\" class=\"dataframe\">\n",
       "  <thead>\n",
       "    <tr>\n",
       "      <th></th>\n",
       "      <th colspan=\"2\" halign=\"left\">mean</th>\n",
       "      <th colspan=\"2\" halign=\"left\">std</th>\n",
       "    </tr>\n",
       "    <tr>\n",
       "      <th></th>\n",
       "      <th>blackand</th>\n",
       "      <th>blackpix</th>\n",
       "      <th>blackand</th>\n",
       "      <th>blackpix</th>\n",
       "    </tr>\n",
       "    <tr>\n",
       "      <th>Catégorie_bloc</th>\n",
       "      <th></th>\n",
       "      <th></th>\n",
       "      <th></th>\n",
       "      <th></th>\n",
       "    </tr>\n",
       "  </thead>\n",
       "  <tbody>\n",
       "    <tr>\n",
       "      <td>Graphic</td>\n",
       "      <td>305.104348</td>\n",
       "      <td>224.539130</td>\n",
       "      <td>299.926581</td>\n",
       "      <td>266.216746</td>\n",
       "    </tr>\n",
       "    <tr>\n",
       "      <td>Horizontal_Line</td>\n",
       "      <td>172.428571</td>\n",
       "      <td>149.106383</td>\n",
       "      <td>226.939047</td>\n",
       "      <td>201.935885</td>\n",
       "    </tr>\n",
       "    <tr>\n",
       "      <td>Picture</td>\n",
       "      <td>542.892857</td>\n",
       "      <td>483.285714</td>\n",
       "      <td>254.929669</td>\n",
       "      <td>271.693026</td>\n",
       "    </tr>\n",
       "    <tr>\n",
       "      <td>Text</td>\n",
       "      <td>307.909220</td>\n",
       "      <td>194.783025</td>\n",
       "      <td>262.004704</td>\n",
       "      <td>213.509806</td>\n",
       "    </tr>\n",
       "    <tr>\n",
       "      <td>Vertical_Line</td>\n",
       "      <td>48.977273</td>\n",
       "      <td>49.545455</td>\n",
       "      <td>95.369695</td>\n",
       "      <td>102.536555</td>\n",
       "    </tr>\n",
       "  </tbody>\n",
       "</table>\n",
       "</div>"
      ],
      "text/plain": [
       "                       mean                     std            \n",
       "                   blackand    blackpix    blackand    blackpix\n",
       "Catégorie_bloc                                                 \n",
       "Graphic          305.104348  224.539130  299.926581  266.216746\n",
       "Horizontal_Line  172.428571  149.106383  226.939047  201.935885\n",
       "Picture          542.892857  483.285714  254.929669  271.693026\n",
       "Text             307.909220  194.783025  262.004704  213.509806\n",
       "Vertical_Line     48.977273   49.545455   95.369695  102.536555"
      ]
     },
     "execution_count": 129,
     "metadata": {},
     "output_type": "execute_result"
    }
   ],
   "source": [
    "tab2 = df.pivot_table(df[[\"blackpix\",\"blackand\"]],\n",
    "                             index=[\"Catégorie_bloc\"],                           \n",
    "                           aggfunc=[np.mean, np.std])\n",
    "tab2"
   ]
  },
  {
   "cell_type": "code",
   "execution_count": 131,
   "metadata": {},
   "outputs": [
    {
     "data": {
      "text/html": [
       "<div>\n",
       "<style scoped>\n",
       "    .dataframe tbody tr th:only-of-type {\n",
       "        vertical-align: middle;\n",
       "    }\n",
       "\n",
       "    .dataframe tbody tr th {\n",
       "        vertical-align: top;\n",
       "    }\n",
       "\n",
       "    .dataframe thead th {\n",
       "        text-align: right;\n",
       "    }\n",
       "</style>\n",
       "<table border=\"1\" class=\"dataframe\">\n",
       "  <thead>\n",
       "    <tr style=\"text-align: right;\">\n",
       "      <th></th>\n",
       "      <th>area</th>\n",
       "    </tr>\n",
       "    <tr>\n",
       "      <th>Catégorie_bloc</th>\n",
       "      <th></th>\n",
       "    </tr>\n",
       "  </thead>\n",
       "  <tbody>\n",
       "    <tr>\n",
       "      <td>Graphic</td>\n",
       "      <td>2035.521739</td>\n",
       "    </tr>\n",
       "    <tr>\n",
       "      <td>Horizontal_Line</td>\n",
       "      <td>478.908815</td>\n",
       "    </tr>\n",
       "    <tr>\n",
       "      <td>Picture</td>\n",
       "      <td>3948.035714</td>\n",
       "    </tr>\n",
       "    <tr>\n",
       "      <td>Text</td>\n",
       "      <td>906.524730</td>\n",
       "    </tr>\n",
       "    <tr>\n",
       "      <td>Vertical_Line</td>\n",
       "      <td>260.534091</td>\n",
       "    </tr>\n",
       "  </tbody>\n",
       "</table>\n",
       "</div>"
      ],
      "text/plain": [
       "                        area\n",
       "Catégorie_bloc              \n",
       "Graphic          2035.521739\n",
       "Horizontal_Line   478.908815\n",
       "Picture          3948.035714\n",
       "Text              906.524730\n",
       "Vertical_Line     260.534091"
      ]
     },
     "execution_count": 131,
     "metadata": {},
     "output_type": "execute_result"
    }
   ],
   "source": [
    "tab3 = df.pivot_table(index=[\"Catégorie_bloc\"], \n",
    "                           values=[\"area\"], \n",
    "                           aggfunc=\"mean\", \n",
    "                           fill_value=0)\n",
    "tab3"
   ]
  },
  {
   "cell_type": "code",
   "execution_count": 132,
   "metadata": {},
   "outputs": [
    {
     "data": {
      "text/html": [
       "<div>\n",
       "<style scoped>\n",
       "    .dataframe tbody tr th:only-of-type {\n",
       "        vertical-align: middle;\n",
       "    }\n",
       "\n",
       "    .dataframe tbody tr th {\n",
       "        vertical-align: top;\n",
       "    }\n",
       "\n",
       "    .dataframe thead th {\n",
       "        text-align: right;\n",
       "    }\n",
       "</style>\n",
       "<table border=\"1\" class=\"dataframe\">\n",
       "  <thead>\n",
       "    <tr style=\"text-align: right;\">\n",
       "      <th></th>\n",
       "      <th>area</th>\n",
       "    </tr>\n",
       "    <tr>\n",
       "      <th>Catégorie_bloc</th>\n",
       "      <th></th>\n",
       "    </tr>\n",
       "  </thead>\n",
       "  <tbody>\n",
       "    <tr>\n",
       "      <td>Vertical_Line</td>\n",
       "      <td>260.534091</td>\n",
       "    </tr>\n",
       "    <tr>\n",
       "      <td>Horizontal_Line</td>\n",
       "      <td>478.908815</td>\n",
       "    </tr>\n",
       "    <tr>\n",
       "      <td>Text</td>\n",
       "      <td>906.524730</td>\n",
       "    </tr>\n",
       "    <tr>\n",
       "      <td>Graphic</td>\n",
       "      <td>2035.521739</td>\n",
       "    </tr>\n",
       "    <tr>\n",
       "      <td>Picture</td>\n",
       "      <td>3948.035714</td>\n",
       "    </tr>\n",
       "  </tbody>\n",
       "</table>\n",
       "</div>"
      ],
      "text/plain": [
       "                        area\n",
       "Catégorie_bloc              \n",
       "Vertical_Line     260.534091\n",
       "Horizontal_Line   478.908815\n",
       "Text              906.524730\n",
       "Graphic          2035.521739\n",
       "Picture          3948.035714"
      ]
     },
     "execution_count": 132,
     "metadata": {},
     "output_type": "execute_result"
    }
   ],
   "source": [
    "tab3.sort_values(\"area\")"
   ]
  },
  {
   "cell_type": "code",
   "execution_count": 133,
   "metadata": {},
   "outputs": [
    {
     "data": {
      "text/plain": [
       "<matplotlib.axes._subplots.AxesSubplot at 0x28946e05388>"
      ]
     },
     "execution_count": 133,
     "metadata": {},
     "output_type": "execute_result"
    },
    {
     "data": {
      "image/png": "[encoded data removed]",
      "text/plain": [
       "<Figure size 432x288 with 2 Axes>"
      ]
     },
     "metadata": {
      "needs_background": "light"
     },
     "output_type": "display_data"
    }
   ],
   "source": [
    "#Heatmap des aires des blocks pour chaque catégorie de  blocs\n",
    "sns.heatmap(tab3.sort_values(\"area\"))"
   ]
  },
  {
   "cell_type": "code",
   "execution_count": 134,
   "metadata": {},
   "outputs": [],
   "source": [
    "def despine_ax(ax):\n",
    "    \"\"\"\n",
    "    Enlève les contours d'un axe dans une figure.\n",
    "    \"\"\"\n",
    "    for spine in ax.spines.values():\n",
    "        spine.set_visible(False)"
   ]
  },
  {
   "cell_type": "code",
   "execution_count": 140,
   "metadata": {},
   "outputs": [
    {
     "data": {
      "text/plain": [
       "<matplotlib.axes._subplots.AxesSubplot at 0x28943b9e608>"
      ]
     },
     "execution_count": 140,
     "metadata": {},
     "output_type": "execute_result"
    },
    {
     "data": {
      "image/png": "[encoded data removed]",
      "text/plain": [
       "<Figure size 432x288 with 1 Axes>"
      ]
     },
     "metadata": {
      "needs_background": "light"
     },
     "output_type": "display_data"
    }
   ],
   "source": [
    "title = \"Longueurs par catégorie de blocs\"\n",
    "to_plot = df.groupby(\"Catégorie_bloc\")[\"lenght\"].mean()\n",
    "ax = to_plot.plot.barh(title=title)\n",
    "despine_ax(ax)\n",
    "ax"
   ]
  },
  {
   "cell_type": "code",
   "execution_count": 142,
   "metadata": {},
   "outputs": [
    {
     "data": {
      "text/plain": [
       "<matplotlib.axes._subplots.AxesSubplot at 0x2894907f288>"
      ]
     },
     "execution_count": 142,
     "metadata": {},
     "output_type": "execute_result"
    },
    {
     "data": {
      "image/png": "[encoded data removed]",
      "text/plain": [
       "<Figure size 432x288 with 1 Axes>"
      ]
     },
     "metadata": {
      "needs_background": "light"
     },
     "output_type": "display_data"
    }
   ],
   "source": [
    "mask_ver = df[\"classe\"]==4\n",
    "mask_hor = df[\"classe\"]==2\n",
    "ax = df[mask_ver].plot.scatter(x=\"lenght\", y=\"height\", color=\"violet\")\n",
    "df[mask_hor].plot.scatter(x=\"lenght\", y=\"height\", color=\"blue\", ax=ax)\n",
    "#Clustering"
   ]
  },
  {
   "cell_type": "code",
   "execution_count": 143,
   "metadata": {},
   "outputs": [
    {
     "data": {
      "text/plain": [
       "<matplotlib.axes._subplots.AxesSubplot at 0x2894aee0788>"
      ]
     },
     "execution_count": 143,
     "metadata": {},
     "output_type": "execute_result"
    },
    {
     "data": {
      "image/png": "[encoded data removed]",
      "text/plain": [
       "<Figure size 432x288 with 1 Axes>"
      ]
     },
     "metadata": {
      "needs_background": "light"
     },
     "output_type": "display_data"
    }
   ],
   "source": [
    "mask_ver = df[\"classe\"]==4\n",
    "mask_hor = df[\"classe\"]==2\n",
    "mask_txt = df[\"classe\"]==1\n",
    "mask_pic = df[\"classe\"]==3\n",
    "ax = df[mask_ver].plot.scatter(x=\"lenght\", y=\"height\", color=\"violet\")\n",
    "ax2 =df[mask_hor].plot.scatter(x=\"lenght\", y=\"height\", color=\"blue\", ax=ax)\n",
    "ax3 =df[mask_txt].plot.scatter(x=\"lenght\", y=\"height\", color=\"green\", ax=ax2)\n",
    "df[mask_pic].plot.scatter(x=\"lenght\", y=\"height\", color=\"red\", ax=ax3)\n",
    "#Clustering\n",
    "\n"
   ]
  },
  {
   "cell_type": "code",
   "execution_count": 167,
   "metadata": {},
   "outputs": [
    {
     "data": {
      "text/plain": [
       "<matplotlib.axes._subplots.AxesSubplot at 0x289492caec8>"
      ]
     },
     "execution_count": 167,
     "metadata": {},
     "output_type": "execute_result"
    },
    {
     "data": {
      "image/png": "[encoded data removed]",
      "text/plain": [
       "<Figure size 432x288 with 1 Axes>"
      ]
     },
     "metadata": {
      "needs_background": "light"
     },
     "output_type": "display_data"
    }
   ],
   "source": [
    "df.plot.scatter(x=\"classe\", y=\"area\",title = \"Aires\")"
   ]
  },
  {
   "cell_type": "code",
   "execution_count": 165,
   "metadata": {},
   "outputs": [
    {
     "data": {
      "text/plain": [
       "<matplotlib.axes._subplots.AxesSubplot at 0x28949265248>"
      ]
     },
     "execution_count": 165,
     "metadata": {},
     "output_type": "execute_result"
    },
    {
     "data": {
      "image/png": "[encoded data removed]",
      "text/plain": [
       "<Figure size 432x288 with 1 Axes>"
      ]
     },
     "metadata": {
      "needs_background": "light"
     },
     "output_type": "display_data"
    }
   ],
   "source": [
    "df.plot.scatter(x=\"classe\", y=\"lenght\",title = \"Longueurs\")"
   ]
  },
  {
   "cell_type": "code",
   "execution_count": 164,
   "metadata": {},
   "outputs": [
    {
     "data": {
      "text/plain": [
       "<matplotlib.axes._subplots.AxesSubplot at 0x289491b5588>"
      ]
     },
     "execution_count": 164,
     "metadata": {},
     "output_type": "execute_result"
    },
    {
     "data": {
      "image/png": "[encoded data removed]",
      "text/plain": [
       "<Figure size 432x288 with 1 Axes>"
      ]
     },
     "metadata": {
      "needs_background": "light"
     },
     "output_type": "display_data"
    }
   ],
   "source": [
    "df.plot.scatter(x=\"classe\", y=\"height\",title = \"Hauteurs de blocs\")\n",
    "#max corrélation max entre height et classe"
   ]
  },
  {
   "cell_type": "code",
   "execution_count": 163,
   "metadata": {},
   "outputs": [
    {
     "data": {
      "text/plain": [
       "<matplotlib.axes._subplots.AxesSubplot at 0x28949427348>"
      ]
     },
     "execution_count": 163,
     "metadata": {},
     "output_type": "execute_result"
    },
    {
     "data": {
      "image/png": "[encoded data removed]",
      "text/plain": [
       "<Figure size 432x288 with 1 Axes>"
      ]
     },
     "metadata": {
      "needs_background": "light"
     },
     "output_type": "display_data"
    }
   ],
   "source": [
    "df.plot.scatter(x=\"classe\", y=\"eccen\",title = \"Excentricités\")"
   ]
  },
  {
   "cell_type": "code",
   "execution_count": 155,
   "metadata": {},
   "outputs": [
    {
     "data": {
      "text/html": [
       "<div>\n",
       "<style scoped>\n",
       "    .dataframe tbody tr th:only-of-type {\n",
       "        vertical-align: middle;\n",
       "    }\n",
       "\n",
       "    .dataframe tbody tr th {\n",
       "        vertical-align: top;\n",
       "    }\n",
       "\n",
       "    .dataframe thead th {\n",
       "        text-align: right;\n",
       "    }\n",
       "</style>\n",
       "<table border=\"1\" class=\"dataframe\">\n",
       "  <thead>\n",
       "    <tr style=\"text-align: right;\">\n",
       "      <th></th>\n",
       "      <th>height</th>\n",
       "      <th>lenght</th>\n",
       "      <th>area</th>\n",
       "      <th>eccen</th>\n",
       "      <th>p_black</th>\n",
       "      <th>p_and</th>\n",
       "      <th>mean_tr</th>\n",
       "      <th>blackpix</th>\n",
       "      <th>blackand</th>\n",
       "      <th>wb_trans</th>\n",
       "      <th>classe</th>\n",
       "    </tr>\n",
       "  </thead>\n",
       "  <tbody>\n",
       "    <tr>\n",
       "      <td>height</td>\n",
       "      <td>1.000000</td>\n",
       "      <td>0.160192</td>\n",
       "      <td>0.476609</td>\n",
       "      <td>-0.167535</td>\n",
       "      <td>-0.022791</td>\n",
       "      <td>-0.244374</td>\n",
       "      <td>0.117986</td>\n",
       "      <td>0.294114</td>\n",
       "      <td>0.214220</td>\n",
       "      <td>0.324479</td>\n",
       "      <td>0.374747</td>\n",
       "    </tr>\n",
       "    <tr>\n",
       "      <td>lenght</td>\n",
       "      <td>0.160192</td>\n",
       "      <td>1.000000</td>\n",
       "      <td>0.802339</td>\n",
       "      <td>0.561366</td>\n",
       "      <td>-0.205180</td>\n",
       "      <td>-0.376210</td>\n",
       "      <td>0.145906</td>\n",
       "      <td>0.736549</td>\n",
       "      <td>0.485997</td>\n",
       "      <td>0.817419</td>\n",
       "      <td>-0.004540</td>\n",
       "    </tr>\n",
       "    <tr>\n",
       "      <td>area</td>\n",
       "      <td>0.476609</td>\n",
       "      <td>0.802339</td>\n",
       "      <td>1.000000</td>\n",
       "      <td>0.173585</td>\n",
       "      <td>-0.180489</td>\n",
       "      <td>-0.366963</td>\n",
       "      <td>0.063309</td>\n",
       "      <td>0.688167</td>\n",
       "      <td>0.445738</td>\n",
       "      <td>0.847625</td>\n",
       "      <td>0.066351</td>\n",
       "    </tr>\n",
       "    <tr>\n",
       "      <td>eccen</td>\n",
       "      <td>-0.167535</td>\n",
       "      <td>0.561366</td>\n",
       "      <td>0.173585</td>\n",
       "      <td>1.000000</td>\n",
       "      <td>0.128455</td>\n",
       "      <td>-0.066366</td>\n",
       "      <td>0.394861</td>\n",
       "      <td>0.279226</td>\n",
       "      <td>0.170932</td>\n",
       "      <td>0.153956</td>\n",
       "      <td>0.099196</td>\n",
       "    </tr>\n",
       "    <tr>\n",
       "      <td>p_black</td>\n",
       "      <td>-0.022791</td>\n",
       "      <td>-0.205180</td>\n",
       "      <td>-0.180489</td>\n",
       "      <td>0.128455</td>\n",
       "      <td>1.000000</td>\n",
       "      <td>0.514982</td>\n",
       "      <td>0.304341</td>\n",
       "      <td>-0.135326</td>\n",
       "      <td>-0.244868</td>\n",
       "      <td>-0.265850</td>\n",
       "      <td>0.212936</td>\n",
       "    </tr>\n",
       "    <tr>\n",
       "      <td>p_and</td>\n",
       "      <td>-0.244374</td>\n",
       "      <td>-0.376210</td>\n",
       "      <td>-0.366963</td>\n",
       "      <td>-0.066366</td>\n",
       "      <td>0.514982</td>\n",
       "      <td>1.000000</td>\n",
       "      <td>-0.023875</td>\n",
       "      <td>-0.270587</td>\n",
       "      <td>-0.212946</td>\n",
       "      <td>-0.275328</td>\n",
       "      <td>-0.177085</td>\n",
       "    </tr>\n",
       "    <tr>\n",
       "      <td>mean_tr</td>\n",
       "      <td>0.117986</td>\n",
       "      <td>0.145906</td>\n",
       "      <td>0.063309</td>\n",
       "      <td>0.394861</td>\n",
       "      <td>0.304341</td>\n",
       "      <td>-0.023875</td>\n",
       "      <td>1.000000</td>\n",
       "      <td>0.076889</td>\n",
       "      <td>0.011619</td>\n",
       "      <td>-0.078513</td>\n",
       "      <td>0.195277</td>\n",
       "    </tr>\n",
       "    <tr>\n",
       "      <td>blackpix</td>\n",
       "      <td>0.294114</td>\n",
       "      <td>0.736549</td>\n",
       "      <td>0.688167</td>\n",
       "      <td>0.279226</td>\n",
       "      <td>-0.135326</td>\n",
       "      <td>-0.270587</td>\n",
       "      <td>0.076889</td>\n",
       "      <td>1.000000</td>\n",
       "      <td>0.562308</td>\n",
       "      <td>0.752659</td>\n",
       "      <td>-0.023812</td>\n",
       "    </tr>\n",
       "    <tr>\n",
       "      <td>blackand</td>\n",
       "      <td>0.214220</td>\n",
       "      <td>0.485997</td>\n",
       "      <td>0.445738</td>\n",
       "      <td>0.170932</td>\n",
       "      <td>-0.244868</td>\n",
       "      <td>-0.212946</td>\n",
       "      <td>0.011619</td>\n",
       "      <td>0.562308</td>\n",
       "      <td>1.000000</td>\n",
       "      <td>0.488063</td>\n",
       "      <td>-0.085276</td>\n",
       "    </tr>\n",
       "    <tr>\n",
       "      <td>wb_trans</td>\n",
       "      <td>0.324479</td>\n",
       "      <td>0.817419</td>\n",
       "      <td>0.847625</td>\n",
       "      <td>0.153956</td>\n",
       "      <td>-0.265850</td>\n",
       "      <td>-0.275328</td>\n",
       "      <td>-0.078513</td>\n",
       "      <td>0.752659</td>\n",
       "      <td>0.488063</td>\n",
       "      <td>1.000000</td>\n",
       "      <td>-0.064489</td>\n",
       "    </tr>\n",
       "    <tr>\n",
       "      <td>classe</td>\n",
       "      <td>0.374747</td>\n",
       "      <td>-0.004540</td>\n",
       "      <td>0.066351</td>\n",
       "      <td>0.099196</td>\n",
       "      <td>0.212936</td>\n",
       "      <td>-0.177085</td>\n",
       "      <td>0.195277</td>\n",
       "      <td>-0.023812</td>\n",
       "      <td>-0.085276</td>\n",
       "      <td>-0.064489</td>\n",
       "      <td>1.000000</td>\n",
       "    </tr>\n",
       "  </tbody>\n",
       "</table>\n",
       "</div>"
      ],
      "text/plain": [
       "            height    lenght      area     eccen   p_black     p_and  \\\n",
       "height    1.000000  0.160192  0.476609 -0.167535 -0.022791 -0.244374   \n",
       "lenght    0.160192  1.000000  0.802339  0.561366 -0.205180 -0.376210   \n",
       "area      0.476609  0.802339  1.000000  0.173585 -0.180489 -0.366963   \n",
       "eccen    -0.167535  0.561366  0.173585  1.000000  0.128455 -0.066366   \n",
       "p_black  -0.022791 -0.205180 -0.180489  0.128455  1.000000  0.514982   \n",
       "p_and    -0.244374 -0.376210 -0.366963 -0.066366  0.514982  1.000000   \n",
       "mean_tr   0.117986  0.145906  0.063309  0.394861  0.304341 -0.023875   \n",
       "blackpix  0.294114  0.736549  0.688167  0.279226 -0.135326 -0.270587   \n",
       "blackand  0.214220  0.485997  0.445738  0.170932 -0.244868 -0.212946   \n",
       "wb_trans  0.324479  0.817419  0.847625  0.153956 -0.265850 -0.275328   \n",
       "classe    0.374747 -0.004540  0.066351  0.099196  0.212936 -0.177085   \n",
       "\n",
       "           mean_tr  blackpix  blackand  wb_trans    classe  \n",
       "height    0.117986  0.294114  0.214220  0.324479  0.374747  \n",
       "lenght    0.145906  0.736549  0.485997  0.817419 -0.004540  \n",
       "area      0.063309  0.688167  0.445738  0.847625  0.066351  \n",
       "eccen     0.394861  0.279226  0.170932  0.153956  0.099196  \n",
       "p_black   0.304341 -0.135326 -0.244868 -0.265850  0.212936  \n",
       "p_and    -0.023875 -0.270587 -0.212946 -0.275328 -0.177085  \n",
       "mean_tr   1.000000  0.076889  0.011619 -0.078513  0.195277  \n",
       "blackpix  0.076889  1.000000  0.562308  0.752659 -0.023812  \n",
       "blackand  0.011619  0.562308  1.000000  0.488063 -0.085276  \n",
       "wb_trans -0.078513  0.752659  0.488063  1.000000 -0.064489  \n",
       "classe    0.195277 -0.023812 -0.085276 -0.064489  1.000000  "
      ]
     },
     "execution_count": 155,
     "metadata": {},
     "output_type": "execute_result"
    }
   ],
   "source": [
    "#Matrice des correlations\n",
    "df.corr()"
   ]
  },
  {
   "cell_type": "code",
   "execution_count": 172,
   "metadata": {},
   "outputs": [
    {
     "data": {
      "text/plain": [
       "height      0.374747\n",
       "lenght     -0.004540\n",
       "area        0.066351\n",
       "eccen       0.099196\n",
       "p_black     0.212936\n",
       "p_and      -0.177085\n",
       "mean_tr     0.195277\n",
       "blackpix   -0.023812\n",
       "blackand   -0.085276\n",
       "wb_trans   -0.064489\n",
       "classe      1.000000\n",
       "Name: classe, dtype: float64"
      ]
     },
     "execution_count": 172,
     "metadata": {},
     "output_type": "execute_result"
    }
   ],
   "source": [
    "df.corr().classe\n",
    "#Corrélations de tous les paramètres avec le paramètre classe"
   ]
  },
  {
   "cell_type": "code",
   "execution_count": 159,
   "metadata": {},
   "outputs": [
    {
     "data": {
      "text/plain": [
       "<matplotlib.axes._subplots.AxesSubplot at 0x28948ef7888>"
      ]
     },
     "execution_count": 159,
     "metadata": {},
     "output_type": "execute_result"
    },
    {
     "data": {
      "image/png": "[encoded data removed]",
      "text/plain": [
       "<Figure size 432x288 with 1 Axes>"
      ]
     },
     "metadata": {
      "needs_background": "light"
     },
     "output_type": "display_data"
    }
   ],
   "source": [
    "df.plot.scatter(x=\"wb_trans\", y=\"area\",title = \"Transitions noir/blanc en fonction de l'aire\")\n",
    "#On voit ici la corrélation importante entre les deux paramètres"
   ]
  },
  {
   "cell_type": "code",
   "execution_count": 171,
   "metadata": {},
   "outputs": [
    {
     "data": {
      "text/plain": [
       "1.0"
      ]
     },
     "execution_count": 171,
     "metadata": {},
     "output_type": "execute_result"
    }
   ],
   "source": []
  }
 ],
 "metadata": {
  "kernelspec": {
   "display_name": "Python 3",
   "language": "python",
   "name": "python3"
  },
  "language_info": {
   "codemirror_mode": {
    "name": "ipython",
    "version": 3
   },
   "file_extension": ".py",
   "mimetype": "text/x-python",
   "name": "python",
   "nbconvert_exporter": "python",
   "pygments_lexer": "ipython3",
   "version": "3.7.4"
  }
 },
 "nbformat": 4,
 "nbformat_minor": 2
}
